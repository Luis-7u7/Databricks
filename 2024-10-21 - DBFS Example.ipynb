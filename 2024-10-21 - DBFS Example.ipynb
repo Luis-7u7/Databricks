{
 "cells": [
  {
   "cell_type": "markdown",
   "metadata": {
    "application/vnd.databricks.v1+cell": {
     "cellMetadata": {},
     "inputWidgets": {},
     "nuid": "96816ed7-b08a-4ca3-abb9-f99880c3535d",
     "showTitle": false,
     "title": ""
    }
   },
   "source": [
    "\n",
    "## Overview\n",
    "\n",
    "This notebook shows you how to create and query a table or DataFrame loaded from data stored in AWS S3. There are two ways to establish access to S3: [IAM roles](https://docs.databricks.com/user-guide/cloud-configurations/aws/iam-roles.html) and access keys.\n",
    "\n",
    "*We recommend using IAM roles to specify which cluster can access which buckets. Keys can show up in logs and table metadata and are therefore fundamentally insecure.* If you do use keys, you'll have to escape the `/` in your keys with `%2F`.\n",
    "\n",
    "This is a **Python** notebook so the default cell type is Python. However, you can use different languages by using the `%LANGUAGE` magic command. Python, Scala, SQL, and R are all supported."
   ]
  },
  {
   "cell_type": "code",
   "execution_count": 0,
   "metadata": {
    "application/vnd.databricks.v1+cell": {
     "cellMetadata": {
      "byteLimit": 2048000,
      "rowLimit": 10000
     },
     "inputWidgets": {},
     "nuid": "d9627ed1-5a25-4844-aed3-5ff13fd9018a",
     "showTitle": false,
     "title": ""
    }
   },
   "outputs": [
    {
     "output_type": "stream",
     "name": "stdout",
     "output_type": "stream",
     "text": [
      "+----------+------+---+------------------+----------------------+\n|CustomerID| Genre|Age|Annual Income (k$)|Spending Score (1-100)|\n+----------+------+---+------------------+----------------------+\n|         1|  Male| 19|                15|                    39|\n|         2|  Male| 21|                15|                    81|\n|         3|Female| 20|                16|                     6|\n|         4|Female| 23|                16|                    77|\n|         5|Female| 31|                17|                    40|\n|         6|Female| 22|                17|                    76|\n|         7|Female| 35|                18|                     6|\n|         8|Female| 23|                18|                    94|\n|         9|  Male| 64|                19|                     3|\n|        10|Female| 30|                19|                    72|\n|        11|  Male| 67|                19|                    14|\n|        12|Female| 35|                19|                    99|\n|        13|Female| 58|                20|                    15|\n|        14|Female| 24|                20|                    77|\n|        15|  Male| 37|                20|                    13|\n|        16|  Male| 22|                20|                    79|\n|        17|Female| 35|                21|                    35|\n|        18|  Male| 20|                21|                    66|\n|        19|  Male| 52|                23|                    29|\n|        20|Female| 35|                23|                    98|\n+----------+------+---+------------------+----------------------+\nonly showing top 20 rows\n\n"
     ]
    }
   ],
   "source": [
    "# Leer el archivo CSV desde /FileStore/tables/ usando Spark\n",
    "DataFrame_costumers = spark.read.csv('/FileStore/tables/Mall_Customers.csv', header=True, inferSchema=True)\n",
    "\n",
    "# Mostrar las primeras filas del DataFrame\n",
    "DataFrame_costumers.show()"
   ]
  },
  {
   "cell_type": "code",
   "execution_count": 0,
   "metadata": {
    "application/vnd.databricks.v1+cell": {
     "cellMetadata": {
      "byteLimit": 2048000,
      "rowLimit": 10000
     },
     "inputWidgets": {},
     "nuid": "05972819-d77a-4db7-ae4a-eb584e530539",
     "showTitle": false,
     "title": ""
    }
   },
   "outputs": [],
   "source": [
    "DataFrame_costumers.createOrReplaceTempView(\"Tabla\")"
   ]
  },
  {
   "cell_type": "code",
   "execution_count": 0,
   "metadata": {
    "application/vnd.databricks.v1+cell": {
     "cellMetadata": {
      "byteLimit": 2048000,
      "rowLimit": 10000
     },
     "inputWidgets": {},
     "nuid": "4d5f1a3a-03ff-402c-9f53-856e112526a9",
     "showTitle": false,
     "title": ""
    }
   },
   "outputs": [
    {
     "output_type": "stream",
     "name": "stdout",
     "output_type": "stream",
     "text": [
      "+----------+------+---+------------------+----------------------+\n|CustomerID| Genre|Age|Annual Income (k$)|Spending Score (1-100)|\n+----------+------+---+------------------+----------------------+\n|         1|  Male| 19|                15|                    39|\n|         2|  Male| 21|                15|                    81|\n|         3|Female| 20|                16|                     6|\n|         4|Female| 23|                16|                    77|\n|         5|Female| 31|                17|                    40|\n|         6|Female| 22|                17|                    76|\n|         7|Female| 35|                18|                     6|\n|         8|Female| 23|                18|                    94|\n|         9|  Male| 64|                19|                     3|\n|        10|Female| 30|                19|                    72|\n|        11|  Male| 67|                19|                    14|\n|        12|Female| 35|                19|                    99|\n|        13|Female| 58|                20|                    15|\n|        14|Female| 24|                20|                    77|\n|        15|  Male| 37|                20|                    13|\n|        16|  Male| 22|                20|                    79|\n|        17|Female| 35|                21|                    35|\n|        18|  Male| 20|                21|                    66|\n|        19|  Male| 52|                23|                    29|\n|        20|Female| 35|                23|                    98|\n+----------+------+---+------------------+----------------------+\nonly showing top 20 rows\n\n"
     ]
    }
   ],
   "source": [
    "spark.sql(\"SELECT * FROM Tabla\").show()"
   ]
  },
  {
   "cell_type": "code",
   "execution_count": 0,
   "metadata": {
    "application/vnd.databricks.v1+cell": {
     "cellMetadata": {
      "byteLimit": 2048000,
      "rowLimit": 10000
     },
     "inputWidgets": {},
     "nuid": "96c31070-c760-4d8f-87d0-dbf4816d8457",
     "showTitle": false,
     "title": ""
    }
   },
   "outputs": [
    {
     "output_type": "stream",
     "name": "stdout",
     "output_type": "stream",
     "text": [
      "+------+-------------+\n| Genre|num_customers|\n+------+-------------+\n|Female|          112|\n|  Male|           88|\n+------+-------------+\n\n"
     ]
    }
   ],
   "source": [
    "spark.sql(\"SELECT Genre, COUNT(CustomerID) AS num_customers FROM Tabla GROUP BY Genre\").show()\n",
    "\n",
    "\n",
    "\n"
   ]
  },
  {
   "cell_type": "code",
   "execution_count": 0,
   "metadata": {
    "application/vnd.databricks.v1+cell": {
     "cellMetadata": {
      "byteLimit": 2048000,
      "rowLimit": 10000
     },
     "inputWidgets": {},
     "nuid": "586a145c-25f7-409c-9dc6-b9ce29b8dca1",
     "showTitle": false,
     "title": ""
    }
   },
   "outputs": [
    {
     "output_type": "stream",
     "name": "stdout",
     "output_type": "stream",
     "text": [
      "+----------+------+---+------------------+----------------------+\n|CustomerID| Genre|Age|Annual Income (k$)|Spending Score (1-100)|\n+----------+------+---+------------------+----------------------+\n|        12|Female| 35|                19|                    99|\n+----------+------+---+------------------+----------------------+\n\n"
     ]
    }
   ],
   "source": [
    "spark.sql(\"SELECT * FROM Tabla ORDER BY `Spending Score (1-100)` DESC LIMIT 1\").show()\n"
   ]
  },
  {
   "cell_type": "code",
   "execution_count": 0,
   "metadata": {
    "application/vnd.databricks.v1+cell": {
     "cellMetadata": {
      "byteLimit": 2048000,
      "rowLimit": 10000
     },
     "inputWidgets": {},
     "nuid": "80dce81e-e4a8-498f-8ed2-5c5bf6d9ea7d",
     "showTitle": false,
     "title": ""
    }
   },
   "outputs": [
    {
     "output_type": "stream",
     "name": "stdout",
     "output_type": "stream",
     "text": [
      "+------+-----------------+\n| Genre|       avg_income|\n+------+-----------------+\n|Female|            59.25|\n|  Male|62.22727272727273|\n+------+-----------------+\n\n"
     ]
    }
   ],
   "source": [
    "spark.sql(\"SELECT Genre, AVG(`Annual Income (k$)`) AS avg_income FROM Tabla GROUP BY Genre\").show()\n"
   ]
  },
  {
   "cell_type": "code",
   "execution_count": 0,
   "metadata": {
    "application/vnd.databricks.v1+cell": {
     "cellMetadata": {
      "byteLimit": 2048000,
      "implicitDf": true,
      "rowLimit": 10000
     },
     "inputWidgets": {},
     "nuid": "cacffe57-881b-4323-b8ab-5ba9872ef643",
     "showTitle": false,
     "title": ""
    }
   },
   "outputs": [
    {
     "output_type": "display_data",
     "data": {
      "text/html": [
       "<style scoped>\n",
       "  .table-result-container {\n",
       "    max-height: 300px;\n",
       "    overflow: auto;\n",
       "  }\n",
       "  table, th, td {\n",
       "    border: 1px solid black;\n",
       "    border-collapse: collapse;\n",
       "  }\n",
       "  th, td {\n",
       "    padding: 5px;\n",
       "  }\n",
       "  th {\n",
       "    text-align: left;\n",
       "  }\n",
       "</style><div class='table-result-container'><table class='table-result'><thead style='background-color: white'><tr><th>CustomerID</th><th>Genre</th><th>Age</th><th>Annual Income (k$)</th><th>Spending Score (1-100)</th></tr></thead><tbody><tr><td>1</td><td>Male</td><td>19</td><td>15</td><td>39</td></tr><tr><td>2</td><td>Male</td><td>21</td><td>15</td><td>81</td></tr><tr><td>3</td><td>Female</td><td>20</td><td>16</td><td>6</td></tr><tr><td>4</td><td>Female</td><td>23</td><td>16</td><td>77</td></tr><tr><td>5</td><td>Female</td><td>31</td><td>17</td><td>40</td></tr><tr><td>6</td><td>Female</td><td>22</td><td>17</td><td>76</td></tr><tr><td>7</td><td>Female</td><td>35</td><td>18</td><td>6</td></tr><tr><td>8</td><td>Female</td><td>23</td><td>18</td><td>94</td></tr><tr><td>9</td><td>Male</td><td>64</td><td>19</td><td>3</td></tr><tr><td>10</td><td>Female</td><td>30</td><td>19</td><td>72</td></tr><tr><td>11</td><td>Male</td><td>67</td><td>19</td><td>14</td></tr><tr><td>12</td><td>Female</td><td>35</td><td>19</td><td>99</td></tr><tr><td>13</td><td>Female</td><td>58</td><td>20</td><td>15</td></tr><tr><td>14</td><td>Female</td><td>24</td><td>20</td><td>77</td></tr><tr><td>15</td><td>Male</td><td>37</td><td>20</td><td>13</td></tr><tr><td>16</td><td>Male</td><td>22</td><td>20</td><td>79</td></tr><tr><td>17</td><td>Female</td><td>35</td><td>21</td><td>35</td></tr><tr><td>18</td><td>Male</td><td>20</td><td>21</td><td>66</td></tr><tr><td>19</td><td>Male</td><td>52</td><td>23</td><td>29</td></tr><tr><td>20</td><td>Female</td><td>35</td><td>23</td><td>98</td></tr><tr><td>21</td><td>Male</td><td>35</td><td>24</td><td>35</td></tr><tr><td>22</td><td>Male</td><td>25</td><td>24</td><td>73</td></tr><tr><td>23</td><td>Female</td><td>46</td><td>25</td><td>5</td></tr><tr><td>24</td><td>Male</td><td>31</td><td>25</td><td>73</td></tr><tr><td>25</td><td>Female</td><td>54</td><td>28</td><td>14</td></tr><tr><td>26</td><td>Male</td><td>29</td><td>28</td><td>82</td></tr><tr><td>27</td><td>Female</td><td>45</td><td>28</td><td>32</td></tr><tr><td>28</td><td>Male</td><td>35</td><td>28</td><td>61</td></tr><tr><td>29</td><td>Female</td><td>40</td><td>29</td><td>31</td></tr><tr><td>30</td><td>Female</td><td>23</td><td>29</td><td>87</td></tr><tr><td>31</td><td>Male</td><td>60</td><td>30</td><td>4</td></tr><tr><td>32</td><td>Female</td><td>21</td><td>30</td><td>73</td></tr><tr><td>33</td><td>Male</td><td>53</td><td>33</td><td>4</td></tr><tr><td>34</td><td>Male</td><td>18</td><td>33</td><td>92</td></tr><tr><td>35</td><td>Female</td><td>49</td><td>33</td><td>14</td></tr><tr><td>36</td><td>Female</td><td>21</td><td>33</td><td>81</td></tr><tr><td>37</td><td>Female</td><td>42</td><td>34</td><td>17</td></tr><tr><td>38</td><td>Female</td><td>30</td><td>34</td><td>73</td></tr><tr><td>39</td><td>Female</td><td>36</td><td>37</td><td>26</td></tr><tr><td>40</td><td>Female</td><td>20</td><td>37</td><td>75</td></tr><tr><td>41</td><td>Female</td><td>65</td><td>38</td><td>35</td></tr><tr><td>42</td><td>Male</td><td>24</td><td>38</td><td>92</td></tr><tr><td>43</td><td>Male</td><td>48</td><td>39</td><td>36</td></tr><tr><td>44</td><td>Female</td><td>31</td><td>39</td><td>61</td></tr><tr><td>45</td><td>Female</td><td>49</td><td>39</td><td>28</td></tr><tr><td>46</td><td>Female</td><td>24</td><td>39</td><td>65</td></tr><tr><td>47</td><td>Female</td><td>50</td><td>40</td><td>55</td></tr><tr><td>48</td><td>Female</td><td>27</td><td>40</td><td>47</td></tr><tr><td>49</td><td>Female</td><td>29</td><td>40</td><td>42</td></tr><tr><td>50</td><td>Female</td><td>31</td><td>40</td><td>42</td></tr><tr><td>51</td><td>Female</td><td>49</td><td>42</td><td>52</td></tr><tr><td>52</td><td>Male</td><td>33</td><td>42</td><td>60</td></tr><tr><td>53</td><td>Female</td><td>31</td><td>43</td><td>54</td></tr><tr><td>54</td><td>Male</td><td>59</td><td>43</td><td>60</td></tr><tr><td>55</td><td>Female</td><td>50</td><td>43</td><td>45</td></tr><tr><td>56</td><td>Male</td><td>47</td><td>43</td><td>41</td></tr><tr><td>57</td><td>Female</td><td>51</td><td>44</td><td>50</td></tr><tr><td>58</td><td>Male</td><td>69</td><td>44</td><td>46</td></tr><tr><td>59</td><td>Female</td><td>27</td><td>46</td><td>51</td></tr><tr><td>60</td><td>Male</td><td>53</td><td>46</td><td>46</td></tr><tr><td>61</td><td>Male</td><td>70</td><td>46</td><td>56</td></tr><tr><td>62</td><td>Male</td><td>19</td><td>46</td><td>55</td></tr><tr><td>63</td><td>Female</td><td>67</td><td>47</td><td>52</td></tr><tr><td>64</td><td>Female</td><td>54</td><td>47</td><td>59</td></tr><tr><td>65</td><td>Male</td><td>63</td><td>48</td><td>51</td></tr><tr><td>66</td><td>Male</td><td>18</td><td>48</td><td>59</td></tr><tr><td>67</td><td>Female</td><td>43</td><td>48</td><td>50</td></tr><tr><td>68</td><td>Female</td><td>68</td><td>48</td><td>48</td></tr><tr><td>69</td><td>Male</td><td>19</td><td>48</td><td>59</td></tr><tr><td>70</td><td>Female</td><td>32</td><td>48</td><td>47</td></tr><tr><td>71</td><td>Male</td><td>70</td><td>49</td><td>55</td></tr><tr><td>72</td><td>Female</td><td>47</td><td>49</td><td>42</td></tr><tr><td>73</td><td>Female</td><td>60</td><td>50</td><td>49</td></tr><tr><td>74</td><td>Female</td><td>60</td><td>50</td><td>56</td></tr><tr><td>75</td><td>Male</td><td>59</td><td>54</td><td>47</td></tr><tr><td>76</td><td>Male</td><td>26</td><td>54</td><td>54</td></tr><tr><td>77</td><td>Female</td><td>45</td><td>54</td><td>53</td></tr><tr><td>78</td><td>Male</td><td>40</td><td>54</td><td>48</td></tr><tr><td>79</td><td>Female</td><td>23</td><td>54</td><td>52</td></tr><tr><td>80</td><td>Female</td><td>49</td><td>54</td><td>42</td></tr><tr><td>81</td><td>Male</td><td>57</td><td>54</td><td>51</td></tr><tr><td>82</td><td>Male</td><td>38</td><td>54</td><td>55</td></tr><tr><td>83</td><td>Male</td><td>67</td><td>54</td><td>41</td></tr><tr><td>84</td><td>Female</td><td>46</td><td>54</td><td>44</td></tr><tr><td>85</td><td>Female</td><td>21</td><td>54</td><td>57</td></tr><tr><td>86</td><td>Male</td><td>48</td><td>54</td><td>46</td></tr><tr><td>87</td><td>Female</td><td>55</td><td>57</td><td>58</td></tr><tr><td>88</td><td>Female</td><td>22</td><td>57</td><td>55</td></tr><tr><td>89</td><td>Female</td><td>34</td><td>58</td><td>60</td></tr><tr><td>90</td><td>Female</td><td>50</td><td>58</td><td>46</td></tr><tr><td>91</td><td>Female</td><td>68</td><td>59</td><td>55</td></tr><tr><td>92</td><td>Male</td><td>18</td><td>59</td><td>41</td></tr><tr><td>93</td><td>Male</td><td>48</td><td>60</td><td>49</td></tr><tr><td>94</td><td>Female</td><td>40</td><td>60</td><td>40</td></tr><tr><td>95</td><td>Female</td><td>32</td><td>60</td><td>42</td></tr><tr><td>96</td><td>Male</td><td>24</td><td>60</td><td>52</td></tr><tr><td>97</td><td>Female</td><td>47</td><td>60</td><td>47</td></tr><tr><td>98</td><td>Female</td><td>27</td><td>60</td><td>50</td></tr><tr><td>99</td><td>Male</td><td>48</td><td>61</td><td>42</td></tr><tr><td>100</td><td>Male</td><td>20</td><td>61</td><td>49</td></tr><tr><td>101</td><td>Female</td><td>23</td><td>62</td><td>41</td></tr><tr><td>102</td><td>Female</td><td>49</td><td>62</td><td>48</td></tr><tr><td>103</td><td>Male</td><td>67</td><td>62</td><td>59</td></tr><tr><td>104</td><td>Male</td><td>26</td><td>62</td><td>55</td></tr><tr><td>105</td><td>Male</td><td>49</td><td>62</td><td>56</td></tr><tr><td>106</td><td>Female</td><td>21</td><td>62</td><td>42</td></tr><tr><td>107</td><td>Female</td><td>66</td><td>63</td><td>50</td></tr><tr><td>108</td><td>Male</td><td>54</td><td>63</td><td>46</td></tr><tr><td>109</td><td>Male</td><td>68</td><td>63</td><td>43</td></tr><tr><td>110</td><td>Male</td><td>66</td><td>63</td><td>48</td></tr><tr><td>111</td><td>Male</td><td>65</td><td>63</td><td>52</td></tr><tr><td>112</td><td>Female</td><td>19</td><td>63</td><td>54</td></tr><tr><td>113</td><td>Female</td><td>38</td><td>64</td><td>42</td></tr><tr><td>114</td><td>Male</td><td>19</td><td>64</td><td>46</td></tr><tr><td>115</td><td>Female</td><td>18</td><td>65</td><td>48</td></tr><tr><td>116</td><td>Female</td><td>19</td><td>65</td><td>50</td></tr><tr><td>117</td><td>Female</td><td>63</td><td>65</td><td>43</td></tr><tr><td>118</td><td>Female</td><td>49</td><td>65</td><td>59</td></tr><tr><td>119</td><td>Female</td><td>51</td><td>67</td><td>43</td></tr><tr><td>120</td><td>Female</td><td>50</td><td>67</td><td>57</td></tr><tr><td>121</td><td>Male</td><td>27</td><td>67</td><td>56</td></tr><tr><td>122</td><td>Female</td><td>38</td><td>67</td><td>40</td></tr><tr><td>123</td><td>Female</td><td>40</td><td>69</td><td>58</td></tr><tr><td>124</td><td>Male</td><td>39</td><td>69</td><td>91</td></tr><tr><td>125</td><td>Female</td><td>23</td><td>70</td><td>29</td></tr><tr><td>126</td><td>Female</td><td>31</td><td>70</td><td>77</td></tr><tr><td>127</td><td>Male</td><td>43</td><td>71</td><td>35</td></tr><tr><td>128</td><td>Male</td><td>40</td><td>71</td><td>95</td></tr><tr><td>129</td><td>Male</td><td>59</td><td>71</td><td>11</td></tr><tr><td>130</td><td>Male</td><td>38</td><td>71</td><td>75</td></tr><tr><td>131</td><td>Male</td><td>47</td><td>71</td><td>9</td></tr><tr><td>132</td><td>Male</td><td>39</td><td>71</td><td>75</td></tr><tr><td>133</td><td>Female</td><td>25</td><td>72</td><td>34</td></tr><tr><td>134</td><td>Female</td><td>31</td><td>72</td><td>71</td></tr><tr><td>135</td><td>Male</td><td>20</td><td>73</td><td>5</td></tr><tr><td>136</td><td>Female</td><td>29</td><td>73</td><td>88</td></tr><tr><td>137</td><td>Female</td><td>44</td><td>73</td><td>7</td></tr><tr><td>138</td><td>Male</td><td>32</td><td>73</td><td>73</td></tr><tr><td>139</td><td>Male</td><td>19</td><td>74</td><td>10</td></tr><tr><td>140</td><td>Female</td><td>35</td><td>74</td><td>72</td></tr><tr><td>141</td><td>Female</td><td>57</td><td>75</td><td>5</td></tr><tr><td>142</td><td>Male</td><td>32</td><td>75</td><td>93</td></tr><tr><td>143</td><td>Female</td><td>28</td><td>76</td><td>40</td></tr><tr><td>144</td><td>Female</td><td>32</td><td>76</td><td>87</td></tr><tr><td>145</td><td>Male</td><td>25</td><td>77</td><td>12</td></tr><tr><td>146</td><td>Male</td><td>28</td><td>77</td><td>97</td></tr><tr><td>147</td><td>Male</td><td>48</td><td>77</td><td>36</td></tr><tr><td>148</td><td>Female</td><td>32</td><td>77</td><td>74</td></tr><tr><td>149</td><td>Female</td><td>34</td><td>78</td><td>22</td></tr><tr><td>150</td><td>Male</td><td>34</td><td>78</td><td>90</td></tr><tr><td>151</td><td>Male</td><td>43</td><td>78</td><td>17</td></tr><tr><td>152</td><td>Male</td><td>39</td><td>78</td><td>88</td></tr><tr><td>153</td><td>Female</td><td>44</td><td>78</td><td>20</td></tr><tr><td>154</td><td>Female</td><td>38</td><td>78</td><td>76</td></tr><tr><td>155</td><td>Female</td><td>47</td><td>78</td><td>16</td></tr><tr><td>156</td><td>Female</td><td>27</td><td>78</td><td>89</td></tr><tr><td>157</td><td>Male</td><td>37</td><td>78</td><td>1</td></tr><tr><td>158</td><td>Female</td><td>30</td><td>78</td><td>78</td></tr><tr><td>159</td><td>Male</td><td>34</td><td>78</td><td>1</td></tr><tr><td>160</td><td>Female</td><td>30</td><td>78</td><td>73</td></tr><tr><td>161</td><td>Female</td><td>56</td><td>79</td><td>35</td></tr><tr><td>162</td><td>Female</td><td>29</td><td>79</td><td>83</td></tr><tr><td>163</td><td>Male</td><td>19</td><td>81</td><td>5</td></tr><tr><td>164</td><td>Female</td><td>31</td><td>81</td><td>93</td></tr><tr><td>165</td><td>Male</td><td>50</td><td>85</td><td>26</td></tr><tr><td>166</td><td>Female</td><td>36</td><td>85</td><td>75</td></tr><tr><td>167</td><td>Male</td><td>42</td><td>86</td><td>20</td></tr><tr><td>168</td><td>Female</td><td>33</td><td>86</td><td>95</td></tr><tr><td>169</td><td>Female</td><td>36</td><td>87</td><td>27</td></tr><tr><td>170</td><td>Male</td><td>32</td><td>87</td><td>63</td></tr><tr><td>171</td><td>Male</td><td>40</td><td>87</td><td>13</td></tr><tr><td>172</td><td>Male</td><td>28</td><td>87</td><td>75</td></tr><tr><td>173</td><td>Male</td><td>36</td><td>87</td><td>10</td></tr><tr><td>174</td><td>Male</td><td>36</td><td>87</td><td>92</td></tr><tr><td>175</td><td>Female</td><td>52</td><td>88</td><td>13</td></tr><tr><td>176</td><td>Female</td><td>30</td><td>88</td><td>86</td></tr><tr><td>177</td><td>Male</td><td>58</td><td>88</td><td>15</td></tr><tr><td>178</td><td>Male</td><td>27</td><td>88</td><td>69</td></tr><tr><td>179</td><td>Male</td><td>59</td><td>93</td><td>14</td></tr><tr><td>180</td><td>Male</td><td>35</td><td>93</td><td>90</td></tr><tr><td>181</td><td>Female</td><td>37</td><td>97</td><td>32</td></tr><tr><td>182</td><td>Female</td><td>32</td><td>97</td><td>86</td></tr><tr><td>183</td><td>Male</td><td>46</td><td>98</td><td>15</td></tr><tr><td>184</td><td>Female</td><td>29</td><td>98</td><td>88</td></tr><tr><td>185</td><td>Female</td><td>41</td><td>99</td><td>39</td></tr><tr><td>186</td><td>Male</td><td>30</td><td>99</td><td>97</td></tr><tr><td>187</td><td>Female</td><td>54</td><td>101</td><td>24</td></tr><tr><td>188</td><td>Male</td><td>28</td><td>101</td><td>68</td></tr><tr><td>189</td><td>Female</td><td>41</td><td>103</td><td>17</td></tr><tr><td>190</td><td>Female</td><td>36</td><td>103</td><td>85</td></tr><tr><td>191</td><td>Female</td><td>34</td><td>103</td><td>23</td></tr><tr><td>192</td><td>Female</td><td>32</td><td>103</td><td>69</td></tr><tr><td>193</td><td>Male</td><td>33</td><td>113</td><td>8</td></tr><tr><td>194</td><td>Female</td><td>38</td><td>113</td><td>91</td></tr><tr><td>195</td><td>Female</td><td>47</td><td>120</td><td>16</td></tr><tr><td>196</td><td>Female</td><td>35</td><td>120</td><td>79</td></tr><tr><td>197</td><td>Female</td><td>45</td><td>126</td><td>28</td></tr><tr><td>198</td><td>Male</td><td>32</td><td>126</td><td>74</td></tr><tr><td>199</td><td>Male</td><td>32</td><td>137</td><td>18</td></tr><tr><td>200</td><td>Male</td><td>30</td><td>137</td><td>83</td></tr></tbody></table></div>"
      ]
     },
     "metadata": {
      "application/vnd.databricks.v1+output": {
       "addedWidgets": {},
       "aggData": [],
       "aggError": "",
       "aggOverflow": false,
       "aggSchema": [],
       "aggSeriesLimitReached": false,
       "aggType": "",
       "arguments": {},
       "columnCustomDisplayInfos": {},
       "data": [
        [
         1,
         "Male",
         19,
         15,
         39
        ],
        [
         2,
         "Male",
         21,
         15,
         81
        ],
        [
         3,
         "Female",
         20,
         16,
         6
        ],
        [
         4,
         "Female",
         23,
         16,
         77
        ],
        [
         5,
         "Female",
         31,
         17,
         40
        ],
        [
         6,
         "Female",
         22,
         17,
         76
        ],
        [
         7,
         "Female",
         35,
         18,
         6
        ],
        [
         8,
         "Female",
         23,
         18,
         94
        ],
        [
         9,
         "Male",
         64,
         19,
         3
        ],
        [
         10,
         "Female",
         30,
         19,
         72
        ],
        [
         11,
         "Male",
         67,
         19,
         14
        ],
        [
         12,
         "Female",
         35,
         19,
         99
        ],
        [
         13,
         "Female",
         58,
         20,
         15
        ],
        [
         14,
         "Female",
         24,
         20,
         77
        ],
        [
         15,
         "Male",
         37,
         20,
         13
        ],
        [
         16,
         "Male",
         22,
         20,
         79
        ],
        [
         17,
         "Female",
         35,
         21,
         35
        ],
        [
         18,
         "Male",
         20,
         21,
         66
        ],
        [
         19,
         "Male",
         52,
         23,
         29
        ],
        [
         20,
         "Female",
         35,
         23,
         98
        ],
        [
         21,
         "Male",
         35,
         24,
         35
        ],
        [
         22,
         "Male",
         25,
         24,
         73
        ],
        [
         23,
         "Female",
         46,
         25,
         5
        ],
        [
         24,
         "Male",
         31,
         25,
         73
        ],
        [
         25,
         "Female",
         54,
         28,
         14
        ],
        [
         26,
         "Male",
         29,
         28,
         82
        ],
        [
         27,
         "Female",
         45,
         28,
         32
        ],
        [
         28,
         "Male",
         35,
         28,
         61
        ],
        [
         29,
         "Female",
         40,
         29,
         31
        ],
        [
         30,
         "Female",
         23,
         29,
         87
        ],
        [
         31,
         "Male",
         60,
         30,
         4
        ],
        [
         32,
         "Female",
         21,
         30,
         73
        ],
        [
         33,
         "Male",
         53,
         33,
         4
        ],
        [
         34,
         "Male",
         18,
         33,
         92
        ],
        [
         35,
         "Female",
         49,
         33,
         14
        ],
        [
         36,
         "Female",
         21,
         33,
         81
        ],
        [
         37,
         "Female",
         42,
         34,
         17
        ],
        [
         38,
         "Female",
         30,
         34,
         73
        ],
        [
         39,
         "Female",
         36,
         37,
         26
        ],
        [
         40,
         "Female",
         20,
         37,
         75
        ],
        [
         41,
         "Female",
         65,
         38,
         35
        ],
        [
         42,
         "Male",
         24,
         38,
         92
        ],
        [
         43,
         "Male",
         48,
         39,
         36
        ],
        [
         44,
         "Female",
         31,
         39,
         61
        ],
        [
         45,
         "Female",
         49,
         39,
         28
        ],
        [
         46,
         "Female",
         24,
         39,
         65
        ],
        [
         47,
         "Female",
         50,
         40,
         55
        ],
        [
         48,
         "Female",
         27,
         40,
         47
        ],
        [
         49,
         "Female",
         29,
         40,
         42
        ],
        [
         50,
         "Female",
         31,
         40,
         42
        ],
        [
         51,
         "Female",
         49,
         42,
         52
        ],
        [
         52,
         "Male",
         33,
         42,
         60
        ],
        [
         53,
         "Female",
         31,
         43,
         54
        ],
        [
         54,
         "Male",
         59,
         43,
         60
        ],
        [
         55,
         "Female",
         50,
         43,
         45
        ],
        [
         56,
         "Male",
         47,
         43,
         41
        ],
        [
         57,
         "Female",
         51,
         44,
         50
        ],
        [
         58,
         "Male",
         69,
         44,
         46
        ],
        [
         59,
         "Female",
         27,
         46,
         51
        ],
        [
         60,
         "Male",
         53,
         46,
         46
        ],
        [
         61,
         "Male",
         70,
         46,
         56
        ],
        [
         62,
         "Male",
         19,
         46,
         55
        ],
        [
         63,
         "Female",
         67,
         47,
         52
        ],
        [
         64,
         "Female",
         54,
         47,
         59
        ],
        [
         65,
         "Male",
         63,
         48,
         51
        ],
        [
         66,
         "Male",
         18,
         48,
         59
        ],
        [
         67,
         "Female",
         43,
         48,
         50
        ],
        [
         68,
         "Female",
         68,
         48,
         48
        ],
        [
         69,
         "Male",
         19,
         48,
         59
        ],
        [
         70,
         "Female",
         32,
         48,
         47
        ],
        [
         71,
         "Male",
         70,
         49,
         55
        ],
        [
         72,
         "Female",
         47,
         49,
         42
        ],
        [
         73,
         "Female",
         60,
         50,
         49
        ],
        [
         74,
         "Female",
         60,
         50,
         56
        ],
        [
         75,
         "Male",
         59,
         54,
         47
        ],
        [
         76,
         "Male",
         26,
         54,
         54
        ],
        [
         77,
         "Female",
         45,
         54,
         53
        ],
        [
         78,
         "Male",
         40,
         54,
         48
        ],
        [
         79,
         "Female",
         23,
         54,
         52
        ],
        [
         80,
         "Female",
         49,
         54,
         42
        ],
        [
         81,
         "Male",
         57,
         54,
         51
        ],
        [
         82,
         "Male",
         38,
         54,
         55
        ],
        [
         83,
         "Male",
         67,
         54,
         41
        ],
        [
         84,
         "Female",
         46,
         54,
         44
        ],
        [
         85,
         "Female",
         21,
         54,
         57
        ],
        [
         86,
         "Male",
         48,
         54,
         46
        ],
        [
         87,
         "Female",
         55,
         57,
         58
        ],
        [
         88,
         "Female",
         22,
         57,
         55
        ],
        [
         89,
         "Female",
         34,
         58,
         60
        ],
        [
         90,
         "Female",
         50,
         58,
         46
        ],
        [
         91,
         "Female",
         68,
         59,
         55
        ],
        [
         92,
         "Male",
         18,
         59,
         41
        ],
        [
         93,
         "Male",
         48,
         60,
         49
        ],
        [
         94,
         "Female",
         40,
         60,
         40
        ],
        [
         95,
         "Female",
         32,
         60,
         42
        ],
        [
         96,
         "Male",
         24,
         60,
         52
        ],
        [
         97,
         "Female",
         47,
         60,
         47
        ],
        [
         98,
         "Female",
         27,
         60,
         50
        ],
        [
         99,
         "Male",
         48,
         61,
         42
        ],
        [
         100,
         "Male",
         20,
         61,
         49
        ],
        [
         101,
         "Female",
         23,
         62,
         41
        ],
        [
         102,
         "Female",
         49,
         62,
         48
        ],
        [
         103,
         "Male",
         67,
         62,
         59
        ],
        [
         104,
         "Male",
         26,
         62,
         55
        ],
        [
         105,
         "Male",
         49,
         62,
         56
        ],
        [
         106,
         "Female",
         21,
         62,
         42
        ],
        [
         107,
         "Female",
         66,
         63,
         50
        ],
        [
         108,
         "Male",
         54,
         63,
         46
        ],
        [
         109,
         "Male",
         68,
         63,
         43
        ],
        [
         110,
         "Male",
         66,
         63,
         48
        ],
        [
         111,
         "Male",
         65,
         63,
         52
        ],
        [
         112,
         "Female",
         19,
         63,
         54
        ],
        [
         113,
         "Female",
         38,
         64,
         42
        ],
        [
         114,
         "Male",
         19,
         64,
         46
        ],
        [
         115,
         "Female",
         18,
         65,
         48
        ],
        [
         116,
         "Female",
         19,
         65,
         50
        ],
        [
         117,
         "Female",
         63,
         65,
         43
        ],
        [
         118,
         "Female",
         49,
         65,
         59
        ],
        [
         119,
         "Female",
         51,
         67,
         43
        ],
        [
         120,
         "Female",
         50,
         67,
         57
        ],
        [
         121,
         "Male",
         27,
         67,
         56
        ],
        [
         122,
         "Female",
         38,
         67,
         40
        ],
        [
         123,
         "Female",
         40,
         69,
         58
        ],
        [
         124,
         "Male",
         39,
         69,
         91
        ],
        [
         125,
         "Female",
         23,
         70,
         29
        ],
        [
         126,
         "Female",
         31,
         70,
         77
        ],
        [
         127,
         "Male",
         43,
         71,
         35
        ],
        [
         128,
         "Male",
         40,
         71,
         95
        ],
        [
         129,
         "Male",
         59,
         71,
         11
        ],
        [
         130,
         "Male",
         38,
         71,
         75
        ],
        [
         131,
         "Male",
         47,
         71,
         9
        ],
        [
         132,
         "Male",
         39,
         71,
         75
        ],
        [
         133,
         "Female",
         25,
         72,
         34
        ],
        [
         134,
         "Female",
         31,
         72,
         71
        ],
        [
         135,
         "Male",
         20,
         73,
         5
        ],
        [
         136,
         "Female",
         29,
         73,
         88
        ],
        [
         137,
         "Female",
         44,
         73,
         7
        ],
        [
         138,
         "Male",
         32,
         73,
         73
        ],
        [
         139,
         "Male",
         19,
         74,
         10
        ],
        [
         140,
         "Female",
         35,
         74,
         72
        ],
        [
         141,
         "Female",
         57,
         75,
         5
        ],
        [
         142,
         "Male",
         32,
         75,
         93
        ],
        [
         143,
         "Female",
         28,
         76,
         40
        ],
        [
         144,
         "Female",
         32,
         76,
         87
        ],
        [
         145,
         "Male",
         25,
         77,
         12
        ],
        [
         146,
         "Male",
         28,
         77,
         97
        ],
        [
         147,
         "Male",
         48,
         77,
         36
        ],
        [
         148,
         "Female",
         32,
         77,
         74
        ],
        [
         149,
         "Female",
         34,
         78,
         22
        ],
        [
         150,
         "Male",
         34,
         78,
         90
        ],
        [
         151,
         "Male",
         43,
         78,
         17
        ],
        [
         152,
         "Male",
         39,
         78,
         88
        ],
        [
         153,
         "Female",
         44,
         78,
         20
        ],
        [
         154,
         "Female",
         38,
         78,
         76
        ],
        [
         155,
         "Female",
         47,
         78,
         16
        ],
        [
         156,
         "Female",
         27,
         78,
         89
        ],
        [
         157,
         "Male",
         37,
         78,
         1
        ],
        [
         158,
         "Female",
         30,
         78,
         78
        ],
        [
         159,
         "Male",
         34,
         78,
         1
        ],
        [
         160,
         "Female",
         30,
         78,
         73
        ],
        [
         161,
         "Female",
         56,
         79,
         35
        ],
        [
         162,
         "Female",
         29,
         79,
         83
        ],
        [
         163,
         "Male",
         19,
         81,
         5
        ],
        [
         164,
         "Female",
         31,
         81,
         93
        ],
        [
         165,
         "Male",
         50,
         85,
         26
        ],
        [
         166,
         "Female",
         36,
         85,
         75
        ],
        [
         167,
         "Male",
         42,
         86,
         20
        ],
        [
         168,
         "Female",
         33,
         86,
         95
        ],
        [
         169,
         "Female",
         36,
         87,
         27
        ],
        [
         170,
         "Male",
         32,
         87,
         63
        ],
        [
         171,
         "Male",
         40,
         87,
         13
        ],
        [
         172,
         "Male",
         28,
         87,
         75
        ],
        [
         173,
         "Male",
         36,
         87,
         10
        ],
        [
         174,
         "Male",
         36,
         87,
         92
        ],
        [
         175,
         "Female",
         52,
         88,
         13
        ],
        [
         176,
         "Female",
         30,
         88,
         86
        ],
        [
         177,
         "Male",
         58,
         88,
         15
        ],
        [
         178,
         "Male",
         27,
         88,
         69
        ],
        [
         179,
         "Male",
         59,
         93,
         14
        ],
        [
         180,
         "Male",
         35,
         93,
         90
        ],
        [
         181,
         "Female",
         37,
         97,
         32
        ],
        [
         182,
         "Female",
         32,
         97,
         86
        ],
        [
         183,
         "Male",
         46,
         98,
         15
        ],
        [
         184,
         "Female",
         29,
         98,
         88
        ],
        [
         185,
         "Female",
         41,
         99,
         39
        ],
        [
         186,
         "Male",
         30,
         99,
         97
        ],
        [
         187,
         "Female",
         54,
         101,
         24
        ],
        [
         188,
         "Male",
         28,
         101,
         68
        ],
        [
         189,
         "Female",
         41,
         103,
         17
        ],
        [
         190,
         "Female",
         36,
         103,
         85
        ],
        [
         191,
         "Female",
         34,
         103,
         23
        ],
        [
         192,
         "Female",
         32,
         103,
         69
        ],
        [
         193,
         "Male",
         33,
         113,
         8
        ],
        [
         194,
         "Female",
         38,
         113,
         91
        ],
        [
         195,
         "Female",
         47,
         120,
         16
        ],
        [
         196,
         "Female",
         35,
         120,
         79
        ],
        [
         197,
         "Female",
         45,
         126,
         28
        ],
        [
         198,
         "Male",
         32,
         126,
         74
        ],
        [
         199,
         "Male",
         32,
         137,
         18
        ],
        [
         200,
         "Male",
         30,
         137,
         83
        ]
       ],
       "datasetInfos": [],
       "dbfsResultPath": null,
       "isJsonSchema": true,
       "metadata": {},
       "overflow": false,
       "plotOptions": {
        "customPlotOptions": {},
        "displayType": "table",
        "pivotAggregation": null,
        "pivotColumns": null,
        "xColumns": null,
        "yColumns": null
       },
       "removedWidgets": [],
       "schema": [
        {
         "metadata": "{}",
         "name": "CustomerID",
         "type": "\"integer\""
        },
        {
         "metadata": "{}",
         "name": "Genre",
         "type": "\"string\""
        },
        {
         "metadata": "{}",
         "name": "Age",
         "type": "\"integer\""
        },
        {
         "metadata": "{}",
         "name": "Annual Income (k$)",
         "type": "\"integer\""
        },
        {
         "metadata": "{}",
         "name": "Spending Score (1-100)",
         "type": "\"integer\""
        }
       ],
       "type": "table"
      }
     },
     "output_type": "display_data"
    }
   ],
   "source": [
    "%sql\n",
    "SELECT * FROM Tabla"
   ]
  },
  {
   "cell_type": "code",
   "execution_count": 0,
   "metadata": {
    "application/vnd.databricks.v1+cell": {
     "cellMetadata": {
      "byteLimit": 2048000,
      "implicitDf": true,
      "rowLimit": 10000
     },
     "inputWidgets": {},
     "nuid": "7bf43007-d1a8-46a1-9302-3983b48c96c9",
     "showTitle": false,
     "title": ""
    }
   },
   "outputs": [
    {
     "output_type": "display_data",
     "data": {
      "text/html": [
       "<style scoped>\n",
       "  .table-result-container {\n",
       "    max-height: 300px;\n",
       "    overflow: auto;\n",
       "  }\n",
       "  table, th, td {\n",
       "    border: 1px solid black;\n",
       "    border-collapse: collapse;\n",
       "  }\n",
       "  th, td {\n",
       "    padding: 5px;\n",
       "  }\n",
       "  th {\n",
       "    text-align: left;\n",
       "  }\n",
       "</style><div class='table-result-container'><table class='table-result'><thead style='background-color: white'><tr><th>AverageAge</th></tr></thead><tbody><tr><td>38.85</td></tr></tbody></table></div>"
      ]
     },
     "metadata": {
      "application/vnd.databricks.v1+output": {
       "addedWidgets": {},
       "aggData": [],
       "aggError": "",
       "aggOverflow": false,
       "aggSchema": [],
       "aggSeriesLimitReached": false,
       "aggType": "",
       "arguments": {},
       "columnCustomDisplayInfos": {},
       "data": [
        [
         38.85
        ]
       ],
       "datasetInfos": [],
       "dbfsResultPath": null,
       "isJsonSchema": true,
       "metadata": {},
       "overflow": false,
       "plotOptions": {
        "customPlotOptions": {},
        "displayType": "table",
        "pivotAggregation": null,
        "pivotColumns": null,
        "xColumns": null,
        "yColumns": null
       },
       "removedWidgets": [],
       "schema": [
        {
         "metadata": "{}",
         "name": "AverageAge",
         "type": "\"double\""
        }
       ],
       "type": "table"
      }
     },
     "output_type": "display_data"
    }
   ],
   "source": [
    "%sql\n",
    "SELECT AVG(Age) AS AverageAge\n",
    "FROM Tabla\n"
   ]
  },
  {
   "cell_type": "code",
   "execution_count": 0,
   "metadata": {
    "application/vnd.databricks.v1+cell": {
     "cellMetadata": {
      "byteLimit": 2048000,
      "implicitDf": true,
      "rowLimit": 10000
     },
     "inputWidgets": {},
     "nuid": "a7790638-a491-4abd-a5ac-6c644bfcd024",
     "showTitle": false,
     "title": ""
    }
   },
   "outputs": [
    {
     "output_type": "display_data",
     "data": {
      "text/html": [
       "<style scoped>\n",
       "  .table-result-container {\n",
       "    max-height: 300px;\n",
       "    overflow: auto;\n",
       "  }\n",
       "  table, th, td {\n",
       "    border: 1px solid black;\n",
       "    border-collapse: collapse;\n",
       "  }\n",
       "  th, td {\n",
       "    padding: 5px;\n",
       "  }\n",
       "  th {\n",
       "    text-align: left;\n",
       "  }\n",
       "</style><div class='table-result-container'><table class='table-result'><thead style='background-color: white'><tr><th>Genre</th><th>CustomerCount</th></tr></thead><tbody><tr><td>Female</td><td>112</td></tr><tr><td>Male</td><td>88</td></tr></tbody></table></div>"
      ]
     },
     "metadata": {
      "application/vnd.databricks.v1+output": {
       "addedWidgets": {},
       "aggData": [],
       "aggError": "",
       "aggOverflow": false,
       "aggSchema": [],
       "aggSeriesLimitReached": false,
       "aggType": "",
       "arguments": {},
       "columnCustomDisplayInfos": {},
       "data": [
        [
         "Female",
         112
        ],
        [
         "Male",
         88
        ]
       ],
       "datasetInfos": [],
       "dbfsResultPath": null,
       "isJsonSchema": true,
       "metadata": {},
       "overflow": false,
       "plotOptions": {
        "customPlotOptions": {},
        "displayType": "table",
        "pivotAggregation": null,
        "pivotColumns": null,
        "xColumns": null,
        "yColumns": null
       },
       "removedWidgets": [],
       "schema": [
        {
         "metadata": "{}",
         "name": "Genre",
         "type": "\"string\""
        },
        {
         "metadata": "{}",
         "name": "CustomerCount",
         "type": "\"long\""
        }
       ],
       "type": "table"
      }
     },
     "output_type": "display_data"
    }
   ],
   "source": [
    "%sql\n",
    "SELECT Genre, COUNT(*) AS CustomerCount\n",
    "FROM Tabla\n",
    "GROUP BY Genre\n"
   ]
  },
  {
   "cell_type": "code",
   "execution_count": 0,
   "metadata": {
    "application/vnd.databricks.v1+cell": {
     "cellMetadata": {
      "byteLimit": 2048000,
      "implicitDf": true,
      "rowLimit": 10000
     },
     "inputWidgets": {},
     "nuid": "df3753a9-2863-46b8-9379-95482c7c4c25",
     "showTitle": false,
     "title": ""
    }
   },
   "outputs": [
    {
     "output_type": "display_data",
     "data": {
      "text/html": [
       "<style scoped>\n",
       "  .table-result-container {\n",
       "    max-height: 300px;\n",
       "    overflow: auto;\n",
       "  }\n",
       "  table, th, td {\n",
       "    border: 1px solid black;\n",
       "    border-collapse: collapse;\n",
       "  }\n",
       "  th, td {\n",
       "    padding: 5px;\n",
       "  }\n",
       "  th {\n",
       "    text-align: left;\n",
       "  }\n",
       "</style><div class='table-result-container'><table class='table-result'><thead style='background-color: white'><tr><th>CustomerID</th><th>Genre</th><th>Age</th><th>Annual Income (k$)</th><th>Spending Score (1-100)</th></tr></thead><tbody><tr><td>34</td><td>Male</td><td>18</td><td>33</td><td>92</td></tr><tr><td>115</td><td>Female</td><td>18</td><td>65</td><td>48</td></tr><tr><td>66</td><td>Male</td><td>18</td><td>48</td><td>59</td></tr><tr><td>92</td><td>Male</td><td>18</td><td>59</td><td>41</td></tr><tr><td>69</td><td>Male</td><td>19</td><td>48</td><td>59</td></tr><tr><td>1</td><td>Male</td><td>19</td><td>15</td><td>39</td></tr><tr><td>62</td><td>Male</td><td>19</td><td>46</td><td>55</td></tr><tr><td>114</td><td>Male</td><td>19</td><td>64</td><td>46</td></tr><tr><td>112</td><td>Female</td><td>19</td><td>63</td><td>54</td></tr><tr><td>116</td><td>Female</td><td>19</td><td>65</td><td>50</td></tr></tbody></table></div>"
      ]
     },
     "metadata": {
      "application/vnd.databricks.v1+output": {
       "addedWidgets": {},
       "aggData": [],
       "aggError": "",
       "aggOverflow": false,
       "aggSchema": [],
       "aggSeriesLimitReached": false,
       "aggType": "",
       "arguments": {},
       "columnCustomDisplayInfos": {},
       "data": [
        [
         34,
         "Male",
         18,
         33,
         92
        ],
        [
         115,
         "Female",
         18,
         65,
         48
        ],
        [
         66,
         "Male",
         18,
         48,
         59
        ],
        [
         92,
         "Male",
         18,
         59,
         41
        ],
        [
         69,
         "Male",
         19,
         48,
         59
        ],
        [
         1,
         "Male",
         19,
         15,
         39
        ],
        [
         62,
         "Male",
         19,
         46,
         55
        ],
        [
         114,
         "Male",
         19,
         64,
         46
        ],
        [
         112,
         "Female",
         19,
         63,
         54
        ],
        [
         116,
         "Female",
         19,
         65,
         50
        ]
       ],
       "datasetInfos": [],
       "dbfsResultPath": null,
       "isJsonSchema": true,
       "metadata": {},
       "overflow": false,
       "plotOptions": {
        "customPlotOptions": {},
        "displayType": "table",
        "pivotAggregation": null,
        "pivotColumns": null,
        "xColumns": null,
        "yColumns": null
       },
       "removedWidgets": [],
       "schema": [
        {
         "metadata": "{}",
         "name": "CustomerID",
         "type": "\"integer\""
        },
        {
         "metadata": "{}",
         "name": "Genre",
         "type": "\"string\""
        },
        {
         "metadata": "{}",
         "name": "Age",
         "type": "\"integer\""
        },
        {
         "metadata": "{}",
         "name": "Annual Income (k$)",
         "type": "\"integer\""
        },
        {
         "metadata": "{}",
         "name": "Spending Score (1-100)",
         "type": "\"integer\""
        }
       ],
       "type": "table"
      }
     },
     "output_type": "display_data"
    }
   ],
   "source": [
    "%sql\n",
    "SELECT *\n",
    "FROM Tabla\n",
    "ORDER BY Age ASC\n",
    "LIMIT 10;\n"
   ]
  },
  {
   "cell_type": "code",
   "execution_count": 0,
   "metadata": {
    "application/vnd.databricks.v1+cell": {
     "cellMetadata": {
      "byteLimit": 2048000,
      "implicitDf": true,
      "rowLimit": 10000
     },
     "inputWidgets": {},
     "nuid": "530b3a09-30e2-4b53-b1dd-1138668c1905",
     "showTitle": false,
     "title": ""
    }
   },
   "outputs": [
    {
     "output_type": "display_data",
     "data": {
      "text/html": [
       "<style scoped>\n",
       "  .table-result-container {\n",
       "    max-height: 300px;\n",
       "    overflow: auto;\n",
       "  }\n",
       "  table, th, td {\n",
       "    border: 1px solid black;\n",
       "    border-collapse: collapse;\n",
       "  }\n",
       "  th, td {\n",
       "    padding: 5px;\n",
       "  }\n",
       "  th {\n",
       "    text-align: left;\n",
       "  }\n",
       "</style><div class='table-result-container'><table class='table-result'><thead style='background-color: white'><tr></tr></thead><tbody></tbody></table></div>"
      ]
     },
     "metadata": {
      "application/vnd.databricks.v1+output": {
       "addedWidgets": {},
       "aggData": [],
       "aggError": "",
       "aggOverflow": false,
       "aggSchema": [],
       "aggSeriesLimitReached": false,
       "aggType": "",
       "arguments": {},
       "columnCustomDisplayInfos": {},
       "data": [],
       "datasetInfos": [],
       "dbfsResultPath": null,
       "isJsonSchema": true,
       "metadata": {},
       "overflow": false,
       "plotOptions": {
        "customPlotOptions": {},
        "displayType": "table",
        "pivotAggregation": null,
        "pivotColumns": null,
        "xColumns": null,
        "yColumns": null
       },
       "removedWidgets": [],
       "schema": [],
       "type": "table"
      }
     },
     "output_type": "display_data"
    }
   ],
   "source": [
    "%sql\n",
    "CREATE OR REPLACE TEMPORARY VIEW vistaTemporal AS\n",
    "SELECT * FROM Tabla"
   ]
  },
  {
   "cell_type": "code",
   "execution_count": 0,
   "metadata": {
    "application/vnd.databricks.v1+cell": {
     "cellMetadata": {
      "byteLimit": 2048000,
      "implicitDf": true,
      "rowLimit": 10000
     },
     "inputWidgets": {},
     "nuid": "cfe052ff-4a38-423f-a290-1b89549cdb78",
     "showTitle": false,
     "title": ""
    }
   },
   "outputs": [
    {
     "output_type": "display_data",
     "data": {
      "text/html": [
       "<style scoped>\n",
       "  .table-result-container {\n",
       "    max-height: 300px;\n",
       "    overflow: auto;\n",
       "  }\n",
       "  table, th, td {\n",
       "    border: 1px solid black;\n",
       "    border-collapse: collapse;\n",
       "  }\n",
       "  th, td {\n",
       "    padding: 5px;\n",
       "  }\n",
       "  th {\n",
       "    text-align: left;\n",
       "  }\n",
       "</style><div class='table-result-container'><table class='table-result'><thead style='background-color: white'><tr></tr></thead><tbody></tbody></table></div>"
      ]
     },
     "metadata": {
      "application/vnd.databricks.v1+output": {
       "addedWidgets": {},
       "aggData": [],
       "aggError": "",
       "aggOverflow": false,
       "aggSchema": [],
       "aggSeriesLimitReached": false,
       "aggType": "",
       "arguments": {},
       "columnCustomDisplayInfos": {},
       "data": [],
       "datasetInfos": [],
       "dbfsResultPath": null,
       "isJsonSchema": true,
       "metadata": {},
       "overflow": false,
       "plotOptions": {
        "customPlotOptions": {},
        "displayType": "table",
        "pivotAggregation": null,
        "pivotColumns": null,
        "xColumns": null,
        "yColumns": null
       },
       "removedWidgets": [],
       "schema": [],
       "type": "table"
      }
     },
     "output_type": "display_data"
    }
   ],
   "source": [
    "%sql\n",
    "CREATE OR REPLACE TEMPORARY VIEW vistaTemporal AS\n",
    "SELECT * FROM Tabla;\n"
   ]
  },
  {
   "cell_type": "code",
   "execution_count": 0,
   "metadata": {
    "application/vnd.databricks.v1+cell": {
     "cellMetadata": {
      "byteLimit": 2048000,
      "implicitDf": true,
      "rowLimit": 10000
     },
     "inputWidgets": {},
     "nuid": "da42c57a-c69e-4a4a-97a9-367861a16dae",
     "showTitle": false,
     "title": ""
    }
   },
   "outputs": [
    {
     "output_type": "display_data",
     "data": {
      "text/html": [
       "<style scoped>\n",
       "  .table-result-container {\n",
       "    max-height: 300px;\n",
       "    overflow: auto;\n",
       "  }\n",
       "  table, th, td {\n",
       "    border: 1px solid black;\n",
       "    border-collapse: collapse;\n",
       "  }\n",
       "  th, td {\n",
       "    padding: 5px;\n",
       "  }\n",
       "  th {\n",
       "    text-align: left;\n",
       "  }\n",
       "</style><div class='table-result-container'><table class='table-result'><thead style='background-color: white'><tr></tr></thead><tbody></tbody></table></div>"
      ]
     },
     "metadata": {
      "application/vnd.databricks.v1+output": {
       "addedWidgets": {},
       "aggData": [],
       "aggError": "",
       "aggOverflow": false,
       "aggSchema": [],
       "aggSeriesLimitReached": false,
       "aggType": "",
       "arguments": {},
       "columnCustomDisplayInfos": {},
       "data": [],
       "datasetInfos": [],
       "dbfsResultPath": null,
       "isJsonSchema": true,
       "metadata": {},
       "overflow": false,
       "plotOptions": {
        "customPlotOptions": {},
        "displayType": "table",
        "pivotAggregation": null,
        "pivotColumns": null,
        "xColumns": null,
        "yColumns": null
       },
       "removedWidgets": [],
       "schema": [],
       "type": "table"
      }
     },
     "output_type": "display_data"
    }
   ],
   "source": [
    "%sql\n",
    "CREATE OR REPLACE TEMPORARY VIEW vistaClientesAltos AS\n",
    "SELECT * FROM Tabla\n",
    "WHERE \"Spending Score (1-100)\" > 70;"
   ]
  },
  {
   "cell_type": "code",
   "execution_count": 0,
   "metadata": {
    "application/vnd.databricks.v1+cell": {
     "cellMetadata": {
      "byteLimit": 2048000,
      "implicitDf": true,
      "rowLimit": 10000
     },
     "inputWidgets": {},
     "nuid": "ca48e475-5879-445c-a43a-86e922461f6b",
     "showTitle": false,
     "title": ""
    }
   },
   "outputs": [
    {
     "output_type": "display_data",
     "data": {
      "text/html": [
       "<style scoped>\n",
       "  .table-result-container {\n",
       "    max-height: 300px;\n",
       "    overflow: auto;\n",
       "  }\n",
       "  table, th, td {\n",
       "    border: 1px solid black;\n",
       "    border-collapse: collapse;\n",
       "  }\n",
       "  th, td {\n",
       "    padding: 5px;\n",
       "  }\n",
       "  th {\n",
       "    text-align: left;\n",
       "  }\n",
       "</style><div class='table-result-container'><table class='table-result'><thead style='background-color: white'><tr><th>CustomerID</th><th>Genre</th><th>Age</th><th>Annual Income (k$)</th><th>Spending Score (1-100)</th></tr></thead><tbody><tr><td>1</td><td>Male</td><td>19</td><td>15</td><td>39</td></tr><tr><td>2</td><td>Male</td><td>21</td><td>15</td><td>81</td></tr><tr><td>3</td><td>Female</td><td>20</td><td>16</td><td>6</td></tr><tr><td>4</td><td>Female</td><td>23</td><td>16</td><td>77</td></tr><tr><td>6</td><td>Female</td><td>22</td><td>17</td><td>76</td></tr><tr><td>8</td><td>Female</td><td>23</td><td>18</td><td>94</td></tr><tr><td>14</td><td>Female</td><td>24</td><td>20</td><td>77</td></tr><tr><td>16</td><td>Male</td><td>22</td><td>20</td><td>79</td></tr><tr><td>18</td><td>Male</td><td>20</td><td>21</td><td>66</td></tr><tr><td>22</td><td>Male</td><td>25</td><td>24</td><td>73</td></tr><tr><td>30</td><td>Female</td><td>23</td><td>29</td><td>87</td></tr><tr><td>32</td><td>Female</td><td>21</td><td>30</td><td>73</td></tr><tr><td>34</td><td>Male</td><td>18</td><td>33</td><td>92</td></tr><tr><td>36</td><td>Female</td><td>21</td><td>33</td><td>81</td></tr><tr><td>40</td><td>Female</td><td>20</td><td>37</td><td>75</td></tr><tr><td>42</td><td>Male</td><td>24</td><td>38</td><td>92</td></tr><tr><td>46</td><td>Female</td><td>24</td><td>39</td><td>65</td></tr><tr><td>62</td><td>Male</td><td>19</td><td>46</td><td>55</td></tr><tr><td>66</td><td>Male</td><td>18</td><td>48</td><td>59</td></tr><tr><td>69</td><td>Male</td><td>19</td><td>48</td><td>59</td></tr><tr><td>79</td><td>Female</td><td>23</td><td>54</td><td>52</td></tr><tr><td>85</td><td>Female</td><td>21</td><td>54</td><td>57</td></tr><tr><td>88</td><td>Female</td><td>22</td><td>57</td><td>55</td></tr><tr><td>92</td><td>Male</td><td>18</td><td>59</td><td>41</td></tr><tr><td>96</td><td>Male</td><td>24</td><td>60</td><td>52</td></tr><tr><td>100</td><td>Male</td><td>20</td><td>61</td><td>49</td></tr><tr><td>101</td><td>Female</td><td>23</td><td>62</td><td>41</td></tr><tr><td>106</td><td>Female</td><td>21</td><td>62</td><td>42</td></tr><tr><td>112</td><td>Female</td><td>19</td><td>63</td><td>54</td></tr><tr><td>114</td><td>Male</td><td>19</td><td>64</td><td>46</td></tr><tr><td>115</td><td>Female</td><td>18</td><td>65</td><td>48</td></tr><tr><td>116</td><td>Female</td><td>19</td><td>65</td><td>50</td></tr><tr><td>125</td><td>Female</td><td>23</td><td>70</td><td>29</td></tr><tr><td>133</td><td>Female</td><td>25</td><td>72</td><td>34</td></tr><tr><td>135</td><td>Male</td><td>20</td><td>73</td><td>5</td></tr><tr><td>139</td><td>Male</td><td>19</td><td>74</td><td>10</td></tr><tr><td>145</td><td>Male</td><td>25</td><td>77</td><td>12</td></tr><tr><td>163</td><td>Male</td><td>19</td><td>81</td><td>5</td></tr></tbody></table></div>"
      ]
     },
     "metadata": {
      "application/vnd.databricks.v1+output": {
       "addedWidgets": {},
       "aggData": [],
       "aggError": "",
       "aggOverflow": false,
       "aggSchema": [],
       "aggSeriesLimitReached": false,
       "aggType": "",
       "arguments": {},
       "columnCustomDisplayInfos": {},
       "data": [
        [
         1,
         "Male",
         19,
         15,
         39
        ],
        [
         2,
         "Male",
         21,
         15,
         81
        ],
        [
         3,
         "Female",
         20,
         16,
         6
        ],
        [
         4,
         "Female",
         23,
         16,
         77
        ],
        [
         6,
         "Female",
         22,
         17,
         76
        ],
        [
         8,
         "Female",
         23,
         18,
         94
        ],
        [
         14,
         "Female",
         24,
         20,
         77
        ],
        [
         16,
         "Male",
         22,
         20,
         79
        ],
        [
         18,
         "Male",
         20,
         21,
         66
        ],
        [
         22,
         "Male",
         25,
         24,
         73
        ],
        [
         30,
         "Female",
         23,
         29,
         87
        ],
        [
         32,
         "Female",
         21,
         30,
         73
        ],
        [
         34,
         "Male",
         18,
         33,
         92
        ],
        [
         36,
         "Female",
         21,
         33,
         81
        ],
        [
         40,
         "Female",
         20,
         37,
         75
        ],
        [
         42,
         "Male",
         24,
         38,
         92
        ],
        [
         46,
         "Female",
         24,
         39,
         65
        ],
        [
         62,
         "Male",
         19,
         46,
         55
        ],
        [
         66,
         "Male",
         18,
         48,
         59
        ],
        [
         69,
         "Male",
         19,
         48,
         59
        ],
        [
         79,
         "Female",
         23,
         54,
         52
        ],
        [
         85,
         "Female",
         21,
         54,
         57
        ],
        [
         88,
         "Female",
         22,
         57,
         55
        ],
        [
         92,
         "Male",
         18,
         59,
         41
        ],
        [
         96,
         "Male",
         24,
         60,
         52
        ],
        [
         100,
         "Male",
         20,
         61,
         49
        ],
        [
         101,
         "Female",
         23,
         62,
         41
        ],
        [
         106,
         "Female",
         21,
         62,
         42
        ],
        [
         112,
         "Female",
         19,
         63,
         54
        ],
        [
         114,
         "Male",
         19,
         64,
         46
        ],
        [
         115,
         "Female",
         18,
         65,
         48
        ],
        [
         116,
         "Female",
         19,
         65,
         50
        ],
        [
         125,
         "Female",
         23,
         70,
         29
        ],
        [
         133,
         "Female",
         25,
         72,
         34
        ],
        [
         135,
         "Male",
         20,
         73,
         5
        ],
        [
         139,
         "Male",
         19,
         74,
         10
        ],
        [
         145,
         "Male",
         25,
         77,
         12
        ],
        [
         163,
         "Male",
         19,
         81,
         5
        ]
       ],
       "datasetInfos": [],
       "dbfsResultPath": null,
       "isJsonSchema": true,
       "metadata": {},
       "overflow": false,
       "plotOptions": {
        "customPlotOptions": {},
        "displayType": "table",
        "pivotAggregation": null,
        "pivotColumns": null,
        "xColumns": null,
        "yColumns": null
       },
       "removedWidgets": [],
       "schema": [
        {
         "metadata": "{}",
         "name": "CustomerID",
         "type": "\"integer\""
        },
        {
         "metadata": "{}",
         "name": "Genre",
         "type": "\"string\""
        },
        {
         "metadata": "{}",
         "name": "Age",
         "type": "\"integer\""
        },
        {
         "metadata": "{}",
         "name": "Annual Income (k$)",
         "type": "\"integer\""
        },
        {
         "metadata": "{}",
         "name": "Spending Score (1-100)",
         "type": "\"integer\""
        }
       ],
       "type": "table"
      }
     },
     "output_type": "display_data"
    }
   ],
   "source": [
    "%sql\n",
    "SELECT * FROM vistaTemporal\n",
    "WHERE Age BETWEEN 18 AND 25;\n",
    "\n"
   ]
  },
  {
   "cell_type": "code",
   "execution_count": 0,
   "metadata": {
    "application/vnd.databricks.v1+cell": {
     "cellMetadata": {
      "byteLimit": 2048000,
      "implicitDf": true,
      "rowLimit": 10000
     },
     "inputWidgets": {},
     "nuid": "13f8b249-9419-4ff3-b52a-5c20f9fb3de6",
     "showTitle": false,
     "title": ""
    }
   },
   "outputs": [
    {
     "output_type": "display_data",
     "data": {
      "text/html": [
       "<style scoped>\n",
       "  .table-result-container {\n",
       "    max-height: 300px;\n",
       "    overflow: auto;\n",
       "  }\n",
       "  table, th, td {\n",
       "    border: 1px solid black;\n",
       "    border-collapse: collapse;\n",
       "  }\n",
       "  th, td {\n",
       "    padding: 5px;\n",
       "  }\n",
       "  th {\n",
       "    text-align: left;\n",
       "  }\n",
       "</style><div class='table-result-container'><table class='table-result'><thead style='background-color: white'><tr><th>CustomerID</th><th>Genre</th><th>Age</th><th>Annual Income (k$)</th><th>Spending Score (1-100)</th></tr></thead><tbody><tr><td>1</td><td>Male</td><td>19</td><td>15</td><td>39</td></tr><tr><td>2</td><td>Male</td><td>21</td><td>15</td><td>81</td></tr><tr><td>3</td><td>Female</td><td>20</td><td>16</td><td>6</td></tr><tr><td>4</td><td>Female</td><td>23</td><td>16</td><td>77</td></tr><tr><td>6</td><td>Female</td><td>22</td><td>17</td><td>76</td></tr><tr><td>8</td><td>Female</td><td>23</td><td>18</td><td>94</td></tr><tr><td>14</td><td>Female</td><td>24</td><td>20</td><td>77</td></tr><tr><td>16</td><td>Male</td><td>22</td><td>20</td><td>79</td></tr><tr><td>18</td><td>Male</td><td>20</td><td>21</td><td>66</td></tr><tr><td>22</td><td>Male</td><td>25</td><td>24</td><td>73</td></tr><tr><td>30</td><td>Female</td><td>23</td><td>29</td><td>87</td></tr><tr><td>32</td><td>Female</td><td>21</td><td>30</td><td>73</td></tr><tr><td>34</td><td>Male</td><td>18</td><td>33</td><td>92</td></tr><tr><td>36</td><td>Female</td><td>21</td><td>33</td><td>81</td></tr><tr><td>40</td><td>Female</td><td>20</td><td>37</td><td>75</td></tr><tr><td>42</td><td>Male</td><td>24</td><td>38</td><td>92</td></tr><tr><td>46</td><td>Female</td><td>24</td><td>39</td><td>65</td></tr><tr><td>62</td><td>Male</td><td>19</td><td>46</td><td>55</td></tr><tr><td>66</td><td>Male</td><td>18</td><td>48</td><td>59</td></tr><tr><td>69</td><td>Male</td><td>19</td><td>48</td><td>59</td></tr><tr><td>79</td><td>Female</td><td>23</td><td>54</td><td>52</td></tr><tr><td>85</td><td>Female</td><td>21</td><td>54</td><td>57</td></tr><tr><td>88</td><td>Female</td><td>22</td><td>57</td><td>55</td></tr><tr><td>92</td><td>Male</td><td>18</td><td>59</td><td>41</td></tr><tr><td>96</td><td>Male</td><td>24</td><td>60</td><td>52</td></tr><tr><td>100</td><td>Male</td><td>20</td><td>61</td><td>49</td></tr><tr><td>101</td><td>Female</td><td>23</td><td>62</td><td>41</td></tr><tr><td>106</td><td>Female</td><td>21</td><td>62</td><td>42</td></tr><tr><td>112</td><td>Female</td><td>19</td><td>63</td><td>54</td></tr><tr><td>114</td><td>Male</td><td>19</td><td>64</td><td>46</td></tr><tr><td>115</td><td>Female</td><td>18</td><td>65</td><td>48</td></tr><tr><td>116</td><td>Female</td><td>19</td><td>65</td><td>50</td></tr><tr><td>125</td><td>Female</td><td>23</td><td>70</td><td>29</td></tr><tr><td>133</td><td>Female</td><td>25</td><td>72</td><td>34</td></tr><tr><td>135</td><td>Male</td><td>20</td><td>73</td><td>5</td></tr><tr><td>139</td><td>Male</td><td>19</td><td>74</td><td>10</td></tr><tr><td>145</td><td>Male</td><td>25</td><td>77</td><td>12</td></tr><tr><td>163</td><td>Male</td><td>19</td><td>81</td><td>5</td></tr></tbody></table></div>"
      ]
     },
     "metadata": {
      "application/vnd.databricks.v1+output": {
       "addedWidgets": {},
       "aggData": [],
       "aggError": "",
       "aggOverflow": false,
       "aggSchema": [],
       "aggSeriesLimitReached": false,
       "aggType": "",
       "arguments": {},
       "columnCustomDisplayInfos": {},
       "data": [
        [
         1,
         "Male",
         19,
         15,
         39
        ],
        [
         2,
         "Male",
         21,
         15,
         81
        ],
        [
         3,
         "Female",
         20,
         16,
         6
        ],
        [
         4,
         "Female",
         23,
         16,
         77
        ],
        [
         6,
         "Female",
         22,
         17,
         76
        ],
        [
         8,
         "Female",
         23,
         18,
         94
        ],
        [
         14,
         "Female",
         24,
         20,
         77
        ],
        [
         16,
         "Male",
         22,
         20,
         79
        ],
        [
         18,
         "Male",
         20,
         21,
         66
        ],
        [
         22,
         "Male",
         25,
         24,
         73
        ],
        [
         30,
         "Female",
         23,
         29,
         87
        ],
        [
         32,
         "Female",
         21,
         30,
         73
        ],
        [
         34,
         "Male",
         18,
         33,
         92
        ],
        [
         36,
         "Female",
         21,
         33,
         81
        ],
        [
         40,
         "Female",
         20,
         37,
         75
        ],
        [
         42,
         "Male",
         24,
         38,
         92
        ],
        [
         46,
         "Female",
         24,
         39,
         65
        ],
        [
         62,
         "Male",
         19,
         46,
         55
        ],
        [
         66,
         "Male",
         18,
         48,
         59
        ],
        [
         69,
         "Male",
         19,
         48,
         59
        ],
        [
         79,
         "Female",
         23,
         54,
         52
        ],
        [
         85,
         "Female",
         21,
         54,
         57
        ],
        [
         88,
         "Female",
         22,
         57,
         55
        ],
        [
         92,
         "Male",
         18,
         59,
         41
        ],
        [
         96,
         "Male",
         24,
         60,
         52
        ],
        [
         100,
         "Male",
         20,
         61,
         49
        ],
        [
         101,
         "Female",
         23,
         62,
         41
        ],
        [
         106,
         "Female",
         21,
         62,
         42
        ],
        [
         112,
         "Female",
         19,
         63,
         54
        ],
        [
         114,
         "Male",
         19,
         64,
         46
        ],
        [
         115,
         "Female",
         18,
         65,
         48
        ],
        [
         116,
         "Female",
         19,
         65,
         50
        ],
        [
         125,
         "Female",
         23,
         70,
         29
        ],
        [
         133,
         "Female",
         25,
         72,
         34
        ],
        [
         135,
         "Male",
         20,
         73,
         5
        ],
        [
         139,
         "Male",
         19,
         74,
         10
        ],
        [
         145,
         "Male",
         25,
         77,
         12
        ],
        [
         163,
         "Male",
         19,
         81,
         5
        ]
       ],
       "datasetInfos": [],
       "dbfsResultPath": null,
       "isJsonSchema": true,
       "metadata": {},
       "overflow": false,
       "plotOptions": {
        "customPlotOptions": {},
        "displayType": "table",
        "pivotAggregation": null,
        "pivotColumns": null,
        "xColumns": null,
        "yColumns": null
       },
       "removedWidgets": [],
       "schema": [
        {
         "metadata": "{}",
         "name": "CustomerID",
         "type": "\"integer\""
        },
        {
         "metadata": "{}",
         "name": "Genre",
         "type": "\"string\""
        },
        {
         "metadata": "{}",
         "name": "Age",
         "type": "\"integer\""
        },
        {
         "metadata": "{}",
         "name": "Annual Income (k$)",
         "type": "\"integer\""
        },
        {
         "metadata": "{}",
         "name": "Spending Score (1-100)",
         "type": "\"integer\""
        }
       ],
       "type": "table"
      }
     },
     "output_type": "display_data"
    }
   ],
   "source": [
    "%sql\n",
    "SELECT * FROM vistaTemporal\n",
    "WHERE Age BETWEEN 18 AND 25;\n",
    "\n",
    "\n",
    "\n"
   ]
  },
  {
   "cell_type": "code",
   "execution_count": 0,
   "metadata": {
    "application/vnd.databricks.v1+cell": {
     "cellMetadata": {
      "byteLimit": 2048000,
      "implicitDf": true,
      "rowLimit": 10000
     },
     "inputWidgets": {},
     "nuid": "05e6bcee-fee1-4b1f-9dee-149885feba39",
     "showTitle": false,
     "title": ""
    }
   },
   "outputs": [
    {
     "output_type": "display_data",
     "data": {
      "text/html": [
       "<style scoped>\n",
       "  .table-result-container {\n",
       "    max-height: 300px;\n",
       "    overflow: auto;\n",
       "  }\n",
       "  table, th, td {\n",
       "    border: 1px solid black;\n",
       "    border-collapse: collapse;\n",
       "  }\n",
       "  th, td {\n",
       "    padding: 5px;\n",
       "  }\n",
       "  th {\n",
       "    text-align: left;\n",
       "  }\n",
       "</style><div class='table-result-container'><table class='table-result'><thead style='background-color: white'><tr><th>CustomerID</th><th>Genre</th><th>Age</th><th>Annual Income (k$)</th><th>Spending Score (1-100)</th></tr></thead><tbody><tr><td>34</td><td>Male</td><td>18</td><td>33</td><td>92</td></tr><tr><td>66</td><td>Male</td><td>18</td><td>48</td><td>59</td></tr><tr><td>92</td><td>Male</td><td>18</td><td>59</td><td>41</td></tr><tr><td>115</td><td>Female</td><td>18</td><td>65</td><td>48</td></tr><tr><td>1</td><td>Male</td><td>19</td><td>15</td><td>39</td></tr></tbody></table></div>"
      ]
     },
     "metadata": {
      "application/vnd.databricks.v1+output": {
       "addedWidgets": {},
       "aggData": [],
       "aggError": "",
       "aggOverflow": false,
       "aggSchema": [],
       "aggSeriesLimitReached": false,
       "aggType": "",
       "arguments": {},
       "columnCustomDisplayInfos": {},
       "data": [
        [
         34,
         "Male",
         18,
         33,
         92
        ],
        [
         66,
         "Male",
         18,
         48,
         59
        ],
        [
         92,
         "Male",
         18,
         59,
         41
        ],
        [
         115,
         "Female",
         18,
         65,
         48
        ],
        [
         1,
         "Male",
         19,
         15,
         39
        ]
       ],
       "datasetInfos": [],
       "dbfsResultPath": null,
       "isJsonSchema": true,
       "metadata": {},
       "overflow": false,
       "plotOptions": {
        "customPlotOptions": {},
        "displayType": "table",
        "pivotAggregation": null,
        "pivotColumns": null,
        "xColumns": null,
        "yColumns": null
       },
       "removedWidgets": [],
       "schema": [
        {
         "metadata": "{}",
         "name": "CustomerID",
         "type": "\"integer\""
        },
        {
         "metadata": "{}",
         "name": "Genre",
         "type": "\"string\""
        },
        {
         "metadata": "{}",
         "name": "Age",
         "type": "\"integer\""
        },
        {
         "metadata": "{}",
         "name": "Annual Income (k$)",
         "type": "\"integer\""
        },
        {
         "metadata": "{}",
         "name": "Spending Score (1-100)",
         "type": "\"integer\""
        }
       ],
       "type": "table"
      }
     },
     "output_type": "display_data"
    }
   ],
   "source": [
    "%sql\n",
    "SELECT *\n",
    "FROM vistaTemporal\n",
    "ORDER BY Age ASC\n",
    "LIMIT 5;\n"
   ]
  },
  {
   "cell_type": "code",
   "execution_count": 0,
   "metadata": {
    "application/vnd.databricks.v1+cell": {
     "cellMetadata": {
      "byteLimit": 2048000,
      "implicitDf": true,
      "rowLimit": 10000
     },
     "inputWidgets": {},
     "nuid": "04878598-c253-41a4-a47e-d2ea755022ab",
     "showTitle": false,
     "title": ""
    }
   },
   "outputs": [
    {
     "output_type": "display_data",
     "data": {
      "text/html": [
       "<style scoped>\n",
       "  .table-result-container {\n",
       "    max-height: 300px;\n",
       "    overflow: auto;\n",
       "  }\n",
       "  table, th, td {\n",
       "    border: 1px solid black;\n",
       "    border-collapse: collapse;\n",
       "  }\n",
       "  th, td {\n",
       "    padding: 5px;\n",
       "  }\n",
       "  th {\n",
       "    text-align: left;\n",
       "  }\n",
       "</style><div class='table-result-container'><table class='table-result'><thead style='background-color: white'><tr><th>Genre</th><th>CantidadClientes</th></tr></thead><tbody><tr><td>Female</td><td>112</td></tr><tr><td>Male</td><td>88</td></tr></tbody></table></div>"
      ]
     },
     "metadata": {
      "application/vnd.databricks.v1+output": {
       "addedWidgets": {},
       "aggData": [],
       "aggError": "",
       "aggOverflow": false,
       "aggSchema": [],
       "aggSeriesLimitReached": false,
       "aggType": "",
       "arguments": {},
       "columnCustomDisplayInfos": {},
       "data": [
        [
         "Female",
         112
        ],
        [
         "Male",
         88
        ]
       ],
       "datasetInfos": [],
       "dbfsResultPath": null,
       "isJsonSchema": true,
       "metadata": {},
       "overflow": false,
       "plotOptions": {
        "customPlotOptions": {},
        "displayType": "table",
        "pivotAggregation": null,
        "pivotColumns": null,
        "xColumns": null,
        "yColumns": null
       },
       "removedWidgets": [],
       "schema": [
        {
         "metadata": "{}",
         "name": "Genre",
         "type": "\"string\""
        },
        {
         "metadata": "{}",
         "name": "CantidadClientes",
         "type": "\"long\""
        }
       ],
       "type": "table"
      }
     },
     "output_type": "display_data"
    }
   ],
   "source": [
    "%sql\n",
    "SELECT Genre, COUNT(*) AS CantidadClientes\n",
    "FROM vistaTemporal\n",
    "GROUP BY Genre;\n"
   ]
  },
  {
   "cell_type": "code",
   "execution_count": 0,
   "metadata": {
    "application/vnd.databricks.v1+cell": {
     "cellMetadata": {
      "byteLimit": 2048000,
      "rowLimit": 10000
     },
     "inputWidgets": {},
     "nuid": "46d794f7-620a-4f20-9ab1-bbf98a983ffd",
     "showTitle": false,
     "title": ""
    }
   },
   "outputs": [],
   "source": [
    "dataFrame_resultado = spark.sql(\"\"\"SELECT * FROM Tabla \"\"\")"
   ]
  },
  {
   "cell_type": "code",
   "execution_count": 0,
   "metadata": {
    "application/vnd.databricks.v1+cell": {
     "cellMetadata": {
      "byteLimit": 2048000,
      "rowLimit": 10000
     },
     "inputWidgets": {},
     "nuid": "246cb284-fd80-47f6-a4cf-d1bc5a8a3c20",
     "showTitle": false,
     "title": ""
    }
   },
   "outputs": [],
   "source": [
    "dataFrame_resultado.write.parquet(\"/FileStore/tables/resultado_parquet\")"
   ]
  },
  {
   "cell_type": "code",
   "execution_count": 0,
   "metadata": {
    "application/vnd.databricks.v1+cell": {
     "cellMetadata": {
      "byteLimit": 2048000,
      "rowLimit": 10000
     },
     "inputWidgets": {},
     "nuid": "e8d9841b-0c6c-40f6-83a0-0043680e731c",
     "showTitle": false,
     "title": ""
    }
   },
   "outputs": [
    {
     "output_type": "display_data",
     "data": {
      "text/html": [
       "<style scoped>\n",
       "  .table-result-container {\n",
       "    max-height: 300px;\n",
       "    overflow: auto;\n",
       "  }\n",
       "  table, th, td {\n",
       "    border: 1px solid black;\n",
       "    border-collapse: collapse;\n",
       "  }\n",
       "  th, td {\n",
       "    padding: 5px;\n",
       "  }\n",
       "  th {\n",
       "    text-align: left;\n",
       "  }\n",
       "</style><div class='table-result-container'><table class='table-result'><thead style='background-color: white'><tr><th>path</th><th>name</th><th>size</th><th>modificationTime</th></tr></thead><tbody><tr><td>dbfs:/FileStore/tables/resultado_parquet/_SUCCESS</td><td>_SUCCESS</td><td>0</td><td>1729554196000</td></tr><tr><td>dbfs:/FileStore/tables/resultado_parquet/_committed_5793426756235918760</td><td>_committed_5793426756235918760</td><td>123</td><td>1729554196000</td></tr><tr><td>dbfs:/FileStore/tables/resultado_parquet/_started_5793426756235918760</td><td>_started_5793426756235918760</td><td>0</td><td>1729554193000</td></tr><tr><td>dbfs:/FileStore/tables/resultado_parquet/part-00000-tid-5793426756235918760-a6a85b06-5a41-441d-9d9b-690f69d52483-22-1-c000.snappy.parquet</td><td>part-00000-tid-5793426756235918760-a6a85b06-5a41-441d-9d9b-690f69d52483-22-1-c000.snappy.parquet</td><td>3876</td><td>1729554196000</td></tr></tbody></table></div>"
      ]
     },
     "metadata": {
      "application/vnd.databricks.v1+output": {
       "addedWidgets": {},
       "aggData": [],
       "aggError": "",
       "aggOverflow": false,
       "aggSchema": [],
       "aggSeriesLimitReached": false,
       "aggType": "",
       "arguments": {},
       "columnCustomDisplayInfos": {},
       "data": [
        [
         "dbfs:/FileStore/tables/resultado_parquet/_SUCCESS",
         "_SUCCESS",
         0,
         1729554196000
        ],
        [
         "dbfs:/FileStore/tables/resultado_parquet/_committed_5793426756235918760",
         "_committed_5793426756235918760",
         123,
         1729554196000
        ],
        [
         "dbfs:/FileStore/tables/resultado_parquet/_started_5793426756235918760",
         "_started_5793426756235918760",
         0,
         1729554193000
        ],
        [
         "dbfs:/FileStore/tables/resultado_parquet/part-00000-tid-5793426756235918760-a6a85b06-5a41-441d-9d9b-690f69d52483-22-1-c000.snappy.parquet",
         "part-00000-tid-5793426756235918760-a6a85b06-5a41-441d-9d9b-690f69d52483-22-1-c000.snappy.parquet",
         3876,
         1729554196000
        ]
       ],
       "datasetInfos": [],
       "dbfsResultPath": null,
       "isJsonSchema": true,
       "metadata": {
        "isDbfsCommandResult": false
       },
       "overflow": false,
       "plotOptions": {
        "customPlotOptions": {},
        "displayType": "table",
        "pivotAggregation": null,
        "pivotColumns": null,
        "xColumns": null,
        "yColumns": null
       },
       "removedWidgets": [],
       "schema": [
        {
         "metadata": "{}",
         "name": "path",
         "type": "\"string\""
        },
        {
         "metadata": "{}",
         "name": "name",
         "type": "\"string\""
        },
        {
         "metadata": "{}",
         "name": "size",
         "type": "\"long\""
        },
        {
         "metadata": "{}",
         "name": "modificationTime",
         "type": "\"long\""
        }
       ],
       "type": "table"
      }
     },
     "output_type": "display_data"
    }
   ],
   "source": [
    "%fs ls /FileStore/tables/resultado_parquet"
   ]
  }
 ],
 "metadata": {
  "application/vnd.databricks.v1+notebook": {
   "dashboards": [],
   "environmentMetadata": null,
   "language": "python",
   "notebookMetadata": {
    "mostRecentlyExecutedCommandWithImplicitDF": {
     "commandId": 2412275753950279,
     "dataframes": [
      "_sqldf"
     ]
    },
    "pythonIndentUnit": 4
   },
   "notebookName": "2024-10-21 - DBFS Example",
   "widgets": {}
  }
 },
 "nbformat": 4,
 "nbformat_minor": 0
}
